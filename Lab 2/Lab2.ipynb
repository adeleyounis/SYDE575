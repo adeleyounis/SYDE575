{
  "cells": [
    {
      "cell_type": "markdown",
      "id": "c41b1e63",
      "metadata": {
        "id": "c41b1e63"
      },
      "source": [
        "# Lab 2: Image Enhancement\n",
        "\n",
        "Adele Younis (20944650) and Meg Paulson (21038856)"
      ]
    },
    {
      "cell_type": "markdown",
      "id": "7f58cf5d",
      "metadata": {
        "id": "7f58cf5d"
      },
      "source": [
        "**Introduction**\n",
        "\n",
        "In this Lab, we explore different noise models such as Gaussian, salt & pepper, and multiplicative speckle, and their behaviors when subjected to various noise reduction filters. Gaussian, salt & pepper, and multiplicative speckle noise are compared visually and by their histogram features. Images are denoised using a 3x3 and 7x7 averaging kernels, a 7x7 Gaussian kernel, and a 3x3 median filter, and compared both visually and by PSNR. The high-boost filter is also developed and discussed in the context of image sharpening. Convolution as a method of filter application in image processing is also discussed.\n",
        "\n",
        "\n",
        "\n",
        "..."
      ]
    },
    {
      "cell_type": "code",
      "execution_count": null,
      "id": "e2d203c8-9f46-4e75-a8af-46afffac2108",
      "metadata": {
        "id": "e2d203c8-9f46-4e75-a8af-46afffac2108"
      },
      "outputs": [],
      "source": [
        "import scipy.signal as signal\n",
        "import matplotlib.pyplot as plt\n",
        "import skimage.util\n",
        "import scipy.ndimage as ndimage\n",
        "from scipy import signal\n",
        "from skimage.color import rgb2gray\n",
        "from skimage.io import imread\n",
        "import numpy as np\n",
        "\n",
        "\n",
        "plt.gray()\n",
        "lena= imread('lena.tiff')\n",
        "cameraman = imread('cameraman.tif').astype(np.float64)/255\n",
        "\n",
        "\n",
        "def gaussian_filter(n_rows, n_cols, stdv):\n",
        "    \"\"\"\n",
        "    Returns a 2d Gaussian image filter.\n",
        "    \"\"\"\n",
        "    g_r = signal.windows.gaussian(n_rows, stdv)\n",
        "    g_c = signal.windows.gaussian(n_cols, stdv)\n",
        "\n",
        "    G = np.outer(g_r, g_c)\n",
        "\n",
        "    return G/np.sum(G)\n",
        "\n",
        "def PSNR(f,g):\n",
        "    return 10*np.log10(1.0/ np.mean(np.square(f-g)))\n"
      ]
    },
    {
      "cell_type": "markdown",
      "id": "49bb1a62",
      "metadata": {
        "id": "49bb1a62"
      },
      "source": [
        "**2. Discrete Convolution for Image Processing**"
      ]
    },
    {
      "cell_type": "code",
      "execution_count": null,
      "id": "798dcc05",
      "metadata": {
        "id": "798dcc05"
      },
      "outputs": [],
      "source": [
        "# Prepare Lena Image\n",
        "lena = rgb2gray(lena)\n",
        "\n",
        "# impulse functions\n",
        "h1 = (1/6)*np.ones((1,6)) # horizontal averaging filter\n",
        "h2 = h1.T # vertical averaging filter (transpose of h1 to make it vertical)\n",
        "h3 = np.array([[-1, 1]]) # edge detection filter\n",
        "\n",
        "# convolve with impulse functions\n",
        "lena_h1 = signal.convolve2d(lena, h1, boundary='symm')\n",
        "lena_h2 = signal.convolve2d(lena, h2, boundary='symm')\n",
        "lena_h3 = signal.convolve2d(lena, h3, boundary='symm')\n"
      ]
    },
    {
      "cell_type": "code",
      "execution_count": null,
      "id": "aa0026fa",
      "metadata": {
        "id": "aa0026fa"
      },
      "outputs": [],
      "source": [
        "# plot images\n",
        "fig, axes = plt.subplots(1, 4, figsize=(12,8))\n",
        "\n",
        "axes[0].imshow(lena, cmap='gray', vmin=0, vmax=1)\n",
        "axes[0].set_title('Original Image')\n",
        "\n",
        "axes[1].imshow(lena_h1, cmap='gray', vmin=0, vmax=1)\n",
        "axes[1].set_title('Convolved with h1')  # horizontal averaging filter\n",
        "\n",
        "axes[2].imshow(lena_h2, cmap='gray', vmin=0, vmax=1)\n",
        "axes[2].set_title('Convolved with h2')  # vertical averaging filter\n",
        "\n",
        "axes[3].imshow(lena_h3, cmap='gray', vmin=0, vmax=1) ## Come back to\n",
        "axes[3].set_title('Convolved with h3')  # horizontal edge filter"
      ]
    },
    {
      "cell_type": "markdown",
      "id": "58f9dd23",
      "metadata": {
        "id": "58f9dd23"
      },
      "source": [
        "**1. What did convolving the image with h1 do to the image? Looking at the impulse function, explain**\n",
        "**why convolving the image with h1 yields such results.**\n",
        "\n",
        "Visually, convolving the image with h1 (horizontal averaging) slightly increased the contrast of the image while making the vertical lines more blurry. This can especially be noticed in the woman's hair, where vertical edges in the original image are hard to see in the h1 image. Looking at the impulse function, h1, we can see that it is a 1x6 matrix - meaning that each center pixel is averaged with its five nearest horizontal neighbours. This impulse may hide rapid changes within the horizontal filter, making the output appear more blurry across the horizontal direction.\n",
        "\n",
        "\n",
        "**2. What did convolving the image with h2 do to the image? Looking at the impulse function, explain**\n",
        "**why convolving the image with h2 yields such results.**\n",
        "\n",
        "Visually, convolving the image with h2 (vertical averaging) makes the image appear blurry blurred in the vertical direction, reducing the sharpness in the horizontal lines in the background of the image. When looking at the h2 impulse function, we can see that it is a 6x1 matrix, where each center pixel is averages with it's five nearest vertical neighbours. Being that h2 is the transpose of h1, it make's sense that not the output appears more blurry in the opposite direction to h1, as h2 is now poor at displaying rapic changes in the vertical direction.\n",
        "\n",
        "**3. What did convolving the image with h3 do to the image? Looking at the impulse function, explain**\n",
        "**why convolving the image with h3 yields such results.**\n",
        "\n",
        "Visually, convolving the image with h3 makes the image appear black, with just the sharp vertical edges appearing as faint white lines. When looking at the h3 impulse function, we can see that the matrix [-1, 1] just takes the difference between neighboring pixels (in the horizontal axis). This indicates that there will be only a small difference in neighboring pixels with similar intensities, so only high contrast edges will stand out.\n",
        "\n",
        "**4. Based on these results, what role can convolution perform in the context of image processing?**\n",
        "\n",
        "From this exercise, we can conclude that convolution can perform various image post-processing operations depending on what kernel/filter is used. Convolution can be used to either suppress/hide (h1, h2) or enhance (h3) specific features within an image."
      ]
    },
    {
      "cell_type": "markdown",
      "id": "d148fc25",
      "metadata": {
        "id": "d148fc25"
      },
      "source": [
        "**3. Noise Generation**"
      ]
    },
    {
      "cell_type": "code",
      "execution_count": null,
      "id": "730ef2c3",
      "metadata": {
        "id": "730ef2c3"
      },
      "outputs": [],
      "source": [
        "def imnoise_speckle(im, v):\n",
        "    # im: input image\n",
        "    # v: variance\n",
        "    n = np.sqrt(v*12) * (np.random.rand(im.shape[0], im.shape[1]) - 0.5)\n",
        "    return im + im * n"
      ]
    },
    {
      "cell_type": "code",
      "execution_count": null,
      "id": "3b2a31f0",
      "metadata": {
        "id": "3b2a31f0"
      },
      "outputs": [],
      "source": [
        "# define toy image\n",
        "toy_image = np.hstack([0.3*np.ones((200,100)), 0.7*np.ones((200,100))])\n",
        "\n",
        "# Gaussian\n",
        "toy_gaussian = skimage.util.random_noise(toy_image, mode='gaussian', mean=0, var=0.01)\n",
        "\n",
        "# salt and pepper\n",
        "toy_sp = skimage.util.random_noise(toy_image, mode='s&p', amount=0.05)\n",
        "\n",
        "# multiplicative speckle\n",
        "toy_speckle = imnoise_speckle(toy_image, 0.04)\n"
      ]
    },
    {
      "cell_type": "code",
      "execution_count": null,
      "id": "77ba4d64",
      "metadata": {
        "id": "77ba4d64"
      },
      "outputs": [],
      "source": [
        "# plot images and histograms\n",
        "fig, axes = plt.subplots(3, 2, figsize=(10,12))\n",
        "axes[0,0].imshow(toy_gaussian, vmin=0, vmax=1)\n",
        "axes[0,0].set_title('Toy Image with Gaussian Noise')\n",
        "axes[0,1].hist(toy_gaussian)\n",
        "axes[0,1].set_title('Histogram of Gaussian Noise')\n",
        "\n",
        "axes[1,0].imshow(toy_sp, vmin=0, vmax=1)\n",
        "axes[1,0].set_title('Toy Image with Salt & Pepper Noise')\n",
        "axes[1,1].hist(toy_sp)\n",
        "axes[1,1].set_title('Histogram of Salt & Pepper Noise')\n",
        "\n",
        "axes[2,0].imshow(toy_speckle, vmin=0,   vmax=1)\n",
        "axes[2,0].set_title('Toy Image with Speckle Noise')\n",
        "axes[2,1].hist(toy_speckle)\n",
        "axes[2,1].set_title('Histogram of Speckle Noise')"
      ]
    },
    {
      "cell_type": "markdown",
      "id": "b68181ec",
      "metadata": {
        "id": "b68181ec"
      },
      "source": [
        "***5. Describe each of the histograms in the context of the corresponding noise models. Why do they appear that way?***\n",
        "\n",
        "The Gaussian noise histogram has the general shape of two gaussian curves joint together, where one curve peaks at around 0.3, and the other peaks at around 0.7. The two curves appear about the same in height and width about the peaks, indicating that both halves of the image were perserved well. This corresponds with the image and gaussian model as the noise is smoothed with a normal distribution. Since the gaussian noise model has a mean of 0, we are allowing for the pixels to increase or decrease in intenisty around the original pixel value. The gaussian model histogram appears very symmetrical, indicating that difference in original pixel values do not affect the amount of noise added.\n",
        "\n",
        "The Salt and Pepper noise histogram has only 4 points in the histogram, with peaks at 0.3 and 0.7, and smaller artifcats around 0 (pepper) and 1 (salt). The histogram alligns well with what we expected from the salt and pepper model, as about 5% of the pixels fall within the extreme 0 and 1 values, while the majority of the image is still consistent with the original image. Similar to the gaussian model, the salt and pepper histogram is noticeably very symmetrical, indicating that the noise level is independant of pixel intensity.\n",
        "\n",
        "The speckle noise histogram is the only one that does not look relatively the same between 0.3 and 0.7. The speckle noise histogram indicates that there are more lower intensity (<0.3) pixels, and less higher intensity (0.3>). This aligns with what we know of multiplicative noise models, where the noise level scales with the signal intensity. Since the right half of the image is brighter, it experiences more noise than the left side. This causes asymmetry in the histogram of the speckled image.\n",
        "\n",
        "***6. Are there visual differences between the noise contaminated images? What are they? Why?***\n",
        "\n",
        "Yes, the visual difference can be especially noticed in the salt & pepper image in comparison to the other two. The salt and pepper noise appears more random, as the added noise is independant of the half of the image it is in. For the guassian and speckle images, the images seem grainy and rough. For the guassian image the graininess is consistent across both halves of the image, as the noise magnitude is independant of the pixel values. However, the speckled image noise is more noticable in the right half, as the brighter intensity accounts for more noise.\n",
        "\n",
        "***7. In the speckle noise case, what is the underlying distribution used? Can you tell from the histogram? How?***\n",
        "\n",
        "The underlying distribution appears uniform about the variance across all pixel values when looking at the histogram. The distribution of pixels around 0.3 and 0.7 appears to be spread evenly, rather than forming bell-curves or sharp spikes.\n",
        "\n",
        "***8. In the speckle noise case, you will notice that the peaks of the histogram are no longer of the same height as they were in the original image. Also, the spread around each of the peaks is also different from each other. Why? ***\n",
        "The speckle noise image does not have the same peaks as seen in the other two histograms because it is multiplicative, and not additive. in Multiplicative models, the noise magnitude scales with the pixel intensity so larger signals have larger noise magnitudes. In our other two additive models, the noise magnitude is independant of the pixel intensity, indicating that the noise amplitude is constant across all intensities."
      ]
    },
    {
      "cell_type": "markdown",
      "id": "e1pwbzuCcLUE",
      "metadata": {
        "id": "e1pwbzuCcLUE"
      },
      "source": [
        "**4. Noise Reduction in the Spatial Domain**"
      ]
    },
    {
      "cell_type": "code",
      "execution_count": null,
      "id": "u1a6mNAVcKQV",
      "metadata": {
        "id": "u1a6mNAVcKQV"
      },
      "outputs": [],
      "source": [
        "# Prepare Lena image\n",
        "lena = imread('lena.tiff').astype(np.float64)/255\n",
        "lena = rgb2gray(lena)\n",
        "\n",
        "# add zero-mean gaussian noise\n",
        "noisy_lena = skimage.util.random_noise(lena, mode='gaussian', mean=0, var=0.002)\n",
        "\n",
        "fig, axes = plt.subplots(1, 2, figsize=(10,4))\n",
        "axes[0].imshow(noisy_lena, vmin=0, vmax=1)\n",
        "axes[0].set_title('Noisy Lena')\n",
        "axes[1].hist(noisy_lena)\n",
        "axes[1].set_title('Histogram of Noisy Lena')\n",
        "\n",
        "psnr = PSNR(lena, noisy_lena)\n",
        "print(\"PSNR: \", psnr)\n"
      ]
    },
    {
      "cell_type": "code",
      "execution_count": null,
      "id": "nSAwH32ZjVkc",
      "metadata": {
        "id": "nSAwH32ZjVkc"
      },
      "outputs": [],
      "source": [
        "# 3x3 averaging kernel\n",
        "avg_kernel_3 = np.ones((3,3))/(3.0*3.0)\n",
        "\n",
        "plt.plot(avg_kernel_3)\n",
        "plt.title(\"3x3 Averaging kernel\")\n"
      ]
    },
    {
      "cell_type": "code",
      "execution_count": null,
      "id": "x7d2Qhx58jEq",
      "metadata": {
        "id": "x7d2Qhx58jEq"
      },
      "outputs": [],
      "source": [
        "# convolve noisy image with filter\n",
        "denoised_3 = ndimage.convolve(noisy_lena, avg_kernel_3)\n",
        "\n",
        "fig, axes = plt.subplots(1, 2, figsize=(10,4))\n",
        "axes[0].imshow(denoised_3, vmin=0, vmax=1)\n",
        "axes[0].set_title('3x3 Denoised Image')\n",
        "axes[1].hist(denoised_3)\n",
        "axes[1].set_title('Histogram of 3x3 Denoised Image')\n",
        "\n",
        "psnr = PSNR(lena, denoised_3)\n",
        "print(\"PSNR: \", psnr)"
      ]
    },
    {
      "cell_type": "markdown",
      "id": "Tvf_ffM2kzXZ",
      "metadata": {
        "id": "Tvf_ffM2kzXZ"
      },
      "source": [
        "***9. Compare the visual difference between the noisy image and the denoised image. How well did it\n",
        "work? Why? Did the PSNR decrease?***\n",
        "\n",
        "The denoised image appears mildly blurred compared to the noisy image. The operation did not seem to work well, as the denoised image still seems to contain visible Gaussian noise, just with less intensity. This is because the averaging filter equally considers the central kernel pixel's neighboring values (including noise). This results in an image that loses important features, and has slightly lower noise intensity as the values get \"spread\" across other pixels. The PSNR increased, indicating that the image similarity did improve when compared with the noisy image."
      ]
    },
    {
      "cell_type": "code",
      "execution_count": null,
      "id": "oOXeAxAAmC_u",
      "metadata": {
        "id": "oOXeAxAAmC_u"
      },
      "outputs": [],
      "source": [
        "# compare histograms\n",
        "fig, axes = plt.subplots(1, 3, figsize=(10,4))\n",
        "axes[0].hist(lena)\n",
        "axes[0].set_title('Histogram of Original Image')\n",
        "axes[1].hist(denoised_3)\n",
        "axes[1].set_title('Histogram of 3x3 Denoised Image')\n",
        "axes[2].hist(noisy_lena)\n",
        "axes[2].set_title('Histogram of Noisy Image')"
      ]
    },
    {
      "cell_type": "markdown",
      "id": "rkhOXDoym0Wv",
      "metadata": {
        "id": "rkhOXDoym0Wv"
      },
      "source": [
        "***10. Compare the histograms of the noise-free, noisy, and denoised images. What happened? Why?***\n",
        "\n",
        "In the process of adding noise to the image, the distribution of pixels changed to include more intermediate gray level values, rescaling the histogrm dramatically. The denoised image retains about the same distribution of pixels as the original, but has higher peaks at some medium grey levels. The lowest intensities have also been lost in the denoised image. This happened because the act of averaging removes extreme values, resulting in a pixel distribution that is closer to the mean of the image, with more moderate intensities.\n",
        "\n",
        "***11. Based on visual quality of the denoised image, what are the benefits and drawbacks associated with\n",
        "the average filter?***\n",
        "\n",
        "Visually, the benefits of the average filter is its ability to remove some elements of noise, without creating new image artifacts, or dramatically destroying image content. The drawback of this filter is that the image loses sharpness, and noise is still generally present."
      ]
    },
    {
      "cell_type": "code",
      "execution_count": null,
      "id": "lpWxGKgcotZJ",
      "metadata": {
        "id": "lpWxGKgcotZJ"
      },
      "outputs": [],
      "source": [
        "# create 7x7 averaging kernel\n",
        "avg_kernel_7 = np.ones((7,7))/(7.0*7.0)\n",
        "# convolve noisy image with filter\n",
        "denoised_7 = ndimage.convolve(noisy_lena, avg_kernel_7)\n",
        "\n",
        "fig, axes = plt.subplots(1, 2, figsize=(10,4))\n",
        "axes[0].imshow(denoised_7, vmin=0, vmax=1)\n",
        "axes[0].set_title('7x7 Denoised Image')\n",
        "axes[1].hist(denoised_7)\n",
        "axes[1].set_title('Histogram of 7x7 Denoised Image')\n",
        "\n",
        "psnr = PSNR(lena, denoised_7)\n",
        "print(\"PSNR: \", psnr)\n"
      ]
    },
    {
      "cell_type": "markdown",
      "id": "LwOJNh6RuziT",
      "metadata": {
        "id": "LwOJNh6RuziT"
      },
      "source": [
        "***12. Compare the visual difference between the denoised image from the 7×7 filtering kernel and the\n",
        "denoised image from the 3×3 filtering kernel. Are there any differences? Why? Did the PSNR\n",
        "decrease? Why?***\n",
        "\n",
        "The denoised image from the 7x7 filtering kernel appears much blurrier than the one produced with the 3x3 kernel, but has less obvious noise. The 7x7 filter is using a larger neighborhood of pixels, so the final average for the central pixel will include image content that's from further pixel locations, effectively blurring the image. The PSNR is almost the same as the value calculated from the original and noisy image. This again is because the average filter includes pixels far from the central location in the kernel, creating an image that has less noise, but is still dissimilar from the original.\n",
        "\n",
        "***13. Compare the histograms of the two denoised images. What are the differences? Why?***\n",
        "\n",
        "The histograms are very similar, but the 7x7 denoised histogram seems to have slightly more intermediate grey pixels. This is because as more pixels are used to calculating the average, the result will approach the mean of the image, which would be an intermediate grey level.\n",
        "\n",
        "***14. Based on visual quality of the denoised image, what are the benefits and drawbacks associated with\n",
        "using a larger window size?***\n",
        "\n",
        "The benefit of using the larger window size is the increased removal of noise, but the major drawback is the loss of image features like edges and fine details."
      ]
    },
    {
      "cell_type": "code",
      "execution_count": null,
      "id": "_LNZItxm1Qhw",
      "metadata": {
        "id": "_LNZItxm1Qhw"
      },
      "outputs": [],
      "source": [
        "# create 7x7 gaussian filter\n",
        "gauss_7 = gaussian_filter(7, 7, 1)\n",
        "plt.figure()\n",
        "plt.plot(gauss_7)\n",
        "plt.title(\"7x7 Gaussian Filter\")\n"
      ]
    },
    {
      "cell_type": "code",
      "execution_count": null,
      "id": "0_nr_hKKBRaS",
      "metadata": {
        "id": "0_nr_hKKBRaS"
      },
      "outputs": [],
      "source": [
        "# convolve noisy image with filter\n",
        "denoised_g = ndimage.convolve(noisy_lena, gauss_7)\n",
        "\n",
        "fig, axes = plt.subplots(1, 2, figsize=(10,4))\n",
        "axes[0].imshow(denoised_g, vmin=0, vmax=1)\n",
        "axes[0].set_title('7x7 Gaussian Denoised Image')\n",
        "axes[1].hist(denoised_g)\n",
        "axes[1].set_title('Histogram of 7x7 Gaussian Denoised Image')\n",
        "\n",
        "psnr = PSNR(lena, denoised_g)\n",
        "print(\"PSNR: \", psnr)\n"
      ]
    },
    {
      "cell_type": "markdown",
      "id": "MbEzRqRI2rwf",
      "metadata": {
        "id": "MbEzRqRI2rwf"
      },
      "source": [
        "***15. Compare the visual difference between the denoised image from the Gaussian filtering kernel and the\n",
        "denoised images from the averaging filter kernels. Are there any differences? Why? Did the PSNR\n",
        "decrease? Why?***\n",
        "\n",
        "The denoised image from the Gaussian kernel appears to have similar noise elimination to the 3x3 averaging kernel result, but is slightly less blurry. This is because the Gaussian filter produces a weighted average of neigboring pixels, so features like edges that are closer to the central pixel will be preserved. The PSNR increased for a similar reason, as the weighted average ensures that the closer a pixel is to the central kernel pixel, the more it should matter in the final value. This creates greater similarity between the original and denoised image.\n"
      ]
    },
    {
      "cell_type": "code",
      "execution_count": null,
      "id": "B36F780Z4_U4",
      "metadata": {
        "id": "B36F780Z4_U4"
      },
      "outputs": [],
      "source": [
        "# compare histograms\n",
        "fig, axes = plt.subplots(1, 3, figsize=(10,4))\n",
        "axes[0].hist(denoised_g)\n",
        "axes[0].set_title('7x7 Gaussian Denoised Image')\n",
        "axes[1].hist(denoised_3)\n",
        "axes[1].set_title('3x3 Denoised Image')\n",
        "axes[2].hist(denoised_7)\n",
        "axes[2].set_title('7x7 Denoised Image')"
      ]
    },
    {
      "cell_type": "markdown",
      "id": "V0l_-Zwu58yR",
      "metadata": {
        "id": "V0l_-Zwu58yR"
      },
      "source": [
        "***16. Compare the histograms of the denoised image using the Gaussian filtering kernel and the denoised\n",
        "images from the averaging filter kernels. What are the differences? Why?***\n",
        "\n",
        "The histogram from the Gaussian kernel seems most similar to the shape of the histogram produced by the 3x3 averaging kernel, but with slightly lower intermediate grey levels that are mostly equal, and more of the highest/lowest grey levels. This is because the Gaussian filter gently blends the noisy intensities into neighboring pixels, not as agressively as the smaller averaging filter. The histogram from the 7x7 averaging kernel seems to have a majority of moderate-intensity pixels, as it more agressively blends intensities across the whole image due to the larger window size.\n",
        "\n",
        "***17. Based on visual quality of the denoised image, what are the benefits and drawbacks associated with\n",
        "using a Gaussian kernel as opposed to an averaging kernel?***\n",
        "\n",
        "The benefit of using a Gaussian kernel over an averaging kernel is that the result has fewer blurred edges. Visually, there doesn't seem to be a drawback to using the Gaussian kernel over the averaging kernel in this instance."
      ]
    },
    {
      "cell_type": "code",
      "execution_count": null,
      "id": "s148Ke4v75hw",
      "metadata": {
        "id": "s148Ke4v75hw"
      },
      "outputs": [],
      "source": [
        "# apply salt and pepper noise to Lena image\n",
        "lena_sp = skimage.util.random_noise(lena, mode='s&p', amount=0.05)\n",
        "# convolve noisy image with 7x7 gaussian and averaging filters\n",
        "denoised_sp_g = ndimage.convolve(lena_sp, gauss_7)\n",
        "denoised_sp_7 = ndimage.convolve(lena_sp, avg_kernel_7)\n",
        "\n",
        "fig, axes = plt.subplots(3, 2, figsize=(10,12))\n",
        "axes[0,0].imshow(lena_sp, vmin=0, vmax=1)\n",
        "axes[0,0].set_title('Salt & Pepper Lena')\n",
        "axes[0,1].hist(lena_sp)\n",
        "axes[0,1].set_title('Histogram of Salt & Pepper Lena')\n",
        "\n",
        "axes[1,0].imshow(denoised_sp_g, vmin=0, vmax=1)\n",
        "axes[1,0].set_title('7x7 Gaussian Denoised')\n",
        "axes[1,1].hist(denoised_sp_g)\n",
        "axes[1,1].set_title('Histogram 7x7 Gaussian Denoised')\n",
        "\n",
        "axes[2,0].imshow(denoised_sp_7, vmin=0,   vmax=1)\n",
        "axes[2,0].set_title('7x7 Averaging Denoised')\n",
        "axes[2,1].hist(denoised_sp_7)\n",
        "axes[2,1].set_title('Histogram 7x7 Averaging Denoised')\n",
        "\n",
        "psnr_sp = PSNR(lena, lena_sp)\n",
        "psnr_g = PSNR(lena, denoised_sp_g)\n",
        "psnr_7 = PSNR(lena, denoised_sp_7)\n",
        "print(\"PSNR s&p: \", psnr_sp)\n",
        "print(\"PSNR Gaussian: \", psnr_g)\n",
        "print(\"PSNR Averaging: \", psnr_7)\n"
      ]
    },
    {
      "cell_type": "markdown",
      "id": "h0YHtM8kBpno",
      "metadata": {
        "id": "h0YHtM8kBpno"
      },
      "source": [
        "***18. How does the averaging filter and Gaussian filtering methods perform on the noisy image in terms of\n",
        "noise reduction? Explain in terms of visual quality as well as PSNR. Why do we get such results?***\n",
        "\n",
        "The Gaussian filter seems to struggle on this image, with much of the noise still remaining, though the PSNR does increase. The averaging filter removes more of the noise, but struggles from the same blurriness, resulting in a lower PSNR. The poor performance between both filters is because they use averaging, which is unable to reject the very high and low intensity outliers from the salt & pepper noise. This causes the noise to spread to neighboring pixels.\n",
        "\n",
        "***19. Compare the histograms of the denoised images with that of the noisy image. What characteristics\n",
        "are present in all of the histograms? Why?***\n",
        "\n",
        "All of the histograms share the same underlying distribution as the original image, with peaks around 0.6, and a small number of very high intensity pixels. This is because even though the noise reduction methods redistributed some of these values into neighboring grey levels, there is still an emphasis on these extreme values."
      ]
    },
    {
      "cell_type": "code",
      "execution_count": null,
      "id": "rNEC6HZCBUYE",
      "metadata": {
        "id": "rNEC6HZCBUYE"
      },
      "outputs": [],
      "source": [
        "# apply 3x3 median filter\n",
        "denoised_sp_med = ndimage.median_filter(lena_sp, size=3)\n",
        "\n",
        "fig, axes = plt.subplots(1, 2, figsize=(10,4))\n",
        "axes[0].imshow(denoised_sp_med, vmin=0, vmax=1)\n",
        "axes[0].set_title('Median Filter Denoised')\n",
        "axes[1].hist(denoised_sp_med)\n",
        "axes[1].set_title('Histogram of Median Filter Denoised')\n",
        "\n",
        "psnr_med = PSNR(lena, denoised_sp_med)\n",
        "print(\"PSNR median: \", psnr_med)"
      ]
    },
    {
      "cell_type": "markdown",
      "id": "VnqX-D_T2_r7",
      "metadata": {
        "id": "VnqX-D_T2_r7"
      },
      "source": [
        "***20. How does the denoised image produced using the median filter compare with the denoised images\n",
        "produced using averaging filter (7x7) and Gaussian filtering methods? Explain in terms of visual\n",
        "quality as well as PSNR. Why do we get such results with median filter when compared to the other\n",
        "spatial filtering methods?***\n",
        "\n",
        "The denoised image produced using the median filter is the best by far in terms of visual quality. Edge sharpness is maintained, and smooth areas show no evidence of the original noise. The PSNR is also the highest between all filters, indicating that the denoised image is most similar to the original. The improved result is because median filters tend to handle impulse noise (like salt & pepper noise) very well. They replace the central kernel pixel with the median of its neighbors, which means they are able to avoid influence from outliers like the high and low intensity noise pixels present, and will not blur the final result.\n"
      ]
    },
    {
      "cell_type": "markdown",
      "id": "aad30fb5",
      "metadata": {
        "id": "aad30fb5"
      },
      "source": [
        "**5. Sharpening in the Spatial Domain**"
      ]
    },
    {
      "cell_type": "code",
      "execution_count": null,
      "id": "d66511aa",
      "metadata": {
        "id": "d66511aa"
      },
      "outputs": [],
      "source": [
        "# apply 7x7 gaussian filter to cameraman image\n",
        "cameraman_gaussian = ndimage.convolve(cameraman, gauss_7)\n",
        "\n",
        "cameraman_diff  = cameraman - cameraman_gaussian\n",
        "\n",
        "fig, axes = plt.subplots(1, 2, figsize=(10,4))\n",
        "axes[0].imshow(cameraman_gaussian, vmin=0, vmax=1)\n",
        "axes[0].set_title('Gaussian Filter Denoised')\n",
        "axes[1].imshow(cameraman_diff, vmin=0, vmax=1)\n",
        "axes[1].set_title('Difference of Gaussian Filter Denoised')\n"
      ]
    },
    {
      "cell_type": "markdown",
      "id": "df075724",
      "metadata": {
        "id": "df075724"
      },
      "source": [
        "***21. What does the subtracted image look like? What frequency components from the original image are\n",
        "preserved in the subtracted image? Why?***\n",
        "\n",
        "The subtracted image looks quite black with only fuzzy white lines appearing for the edges in the picture. This indicates that only high frequency components are preserved from the original image, as these components refer to the abrupt intensity changes seen in the original image. This make sense as the Gaussian filter removes the low frequency components, leaving only the high frequency components left after we subtract the original image."
      ]
    },
    {
      "cell_type": "code",
      "execution_count": null,
      "id": "a0862928",
      "metadata": {
        "id": "a0862928"
      },
      "outputs": [],
      "source": [
        "cameraman_sharpened = cameraman + cameraman_diff\n",
        "\n",
        "fig, axes = plt.subplots(1, 2, figsize=(10,4))\n",
        "axes[0].imshow(cameraman, vmin=0, vmax=1)\n",
        "axes[0].set_title('Original Cameraman')\n",
        "axes[1].imshow(cameraman_sharpened, vmin=0, vmax=1)\n",
        "axes[1].set_title('Sharpened Cameraman')"
      ]
    },
    {
      "cell_type": "markdown",
      "id": "360cf5a5",
      "metadata": {
        "id": "360cf5a5"
      },
      "source": [
        "** 22. What does the resulting image look like? How does it differ from the original image? Explain why it appears this way.**\n",
        "\n",
        "The resilting image appears sharp and high contrast in comparison to the original image. The intensities at the edges of the image seem very clear and emphasized. This makes sense since the subtracted cameraman acts as a sharpening mask for the high intensity features. When the subtracted image is added to the original image, the high frequency edges are emphasized, without distorting any low frequency components."
      ]
    },
    {
      "cell_type": "code",
      "execution_count": null,
      "id": "00802d45",
      "metadata": {
        "id": "00802d45"
      },
      "outputs": [],
      "source": [
        "scaled_diff = cameraman_diff * 0.5\n",
        "cameraman_sharpened_scaled = cameraman + scaled_diff\n",
        "\n",
        "fig, axes = plt.subplots(1, 2, figsize=(10,4))\n",
        "axes[0].imshow(cameraman, vmin=0, vmax=1)\n",
        "axes[0].set_title('Original Cameraman')\n",
        "axes[1].imshow(cameraman_sharpened_scaled, vmin=0, vmax=1)\n",
        "axes[1].set_title('Sharpened Cameraman (Scaled by 0.5)')"
      ]
    },
    {
      "cell_type": "markdown",
      "id": "f5b0d9fe",
      "metadata": {
        "id": "f5b0d9fe"
      },
      "source": [
        "***23. Compare the results produced by adding the subtracted image to the original image and that produced by adding half of the subtracted image to the original image. How does it differ? Explain why it appears this way.***\n",
        "\n",
        "Adding the scaled down subtracted image to the original image still sharpens the original image, but not as much as adding the full subtracted image. This image looks more similar to the original image, since the edges are only slightly more defined. This makes sense since scaling down the subtracted image reduces the effects of the high frequency edges, making their effect more minimal when summed with the original image.\n",
        "\n",
        "***24. What does multiplying the subtracted image by a factor less than one accomplish? What about greater than one?***\n",
        "\n",
        "Multiplying the subtracted image by a factor less than one weakens the edges, producing a more soft image enhancement. Multiplying the subtracted image by a factor greater than one sharpens the edges, producing more pronounced, high-contrast sharpening."
      ]
    },
    {
      "cell_type": "markdown",
      "id": "fced7ecf",
      "metadata": {
        "id": "fced7ecf"
      },
      "source": [
        "**Conclusion**\n",
        "\n",
        "This lab studied various techniques to reduce noise and enhance images in the spatial domain. We observed how convolution can act as a low-pass filter for noise reduction and smoothing, or as a high-pass filter for edge detection and feature extraction, depending on whether the filtering is applied in the horizontal or vertical direction.\n",
        "\n",
        "The lab also compared the effects of different noise models and their relationship with pixel intensity distributions. Additive noise models, such as Gaussian and Salt & Pepper, were shown to be independent of pixel intensity, while multiplicative noise models scaled with pixel intensity, causing uneven spreading in the histogram and stronger degradation in brighter regions.\n",
        "\n",
        "Next, the lab demonstrated that spatial averaging filters can effectively reduce Gaussian noise, but at the cost of blurring edges and fine details. Smaller kernels (e.g., 3×3) provide a reasonable tradeoff between denoising and detail preservation, whereas larger kernels (e.g., 7×7) increase smoothing but reduce sharpness and may even lower PSNR.\n",
        "\n",
        "Finally, the lab explored sharpening techniques using filtering, showing that subtracting a Gaussian blurred image from the original isolates high frequency edge details, and adding this back enhances sharpness. In conclusion, spatial filtering provides a pluthera of options for both noise reduction and image enhancement"
      ]
    }
  ],
  "metadata": {
    "colab": {
      "provenance": []
    },
    "kernelspec": {
      "display_name": "illumi",
      "language": "python",
      "name": "python3"
    },
    "language_info": {
      "codemirror_mode": {
        "name": "ipython",
        "version": 3
      },
      "file_extension": ".py",
      "mimetype": "text/x-python",
      "name": "python",
      "nbconvert_exporter": "python",
      "pygments_lexer": "ipython3",
      "version": "3.11.0"
    }
  },
  "nbformat": 4,
  "nbformat_minor": 5
}